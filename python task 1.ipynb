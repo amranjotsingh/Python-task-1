{
 "cells": [
  {
   "cell_type": "code",
   "execution_count": 1,
   "id": "0f5a52de-06a7-41d5-a31d-55180ad2ed4f",
   "metadata": {},
   "outputs": [],
   "source": [
    "#Question 1"
   ]
  },
  {
   "cell_type": "code",
   "execution_count": 1,
   "id": "d624cee8-73ee-4235-8df6-a1ba19719812",
   "metadata": {},
   "outputs": [],
   "source": [
    "list1 = [1,2,3,4, [44,55,66, True], False, (34,56,78,89,34), {1,2,3,3,2,1}, {1:34, \"key2\": [55, 67, 78, 89], 4: (45,\n",
    "22, 61, 34)}, [56, 'data science'], 'Machine Learning']"
   ]
  },
  {
   "cell_type": "code",
   "execution_count": 2,
   "id": "2b531c96-fa63-4ef6-b379-4e5322c84d44",
   "metadata": {},
   "outputs": [],
   "source": [
    "l2 = []\n",
    "def test1(list1):\n",
    "    for i in list1:\n",
    "        \n",
    "        if type(i)==int:\n",
    "            l2.append(i)\n",
    "        elif type(i)==list:\n",
    "            for items in i:\n",
    "                if type(items)==int:\n",
    "                    l2.append(items)\n",
    "        elif type(i)==tuple:\n",
    "            for u in i:\n",
    "                if type(u)==int:\n",
    "                    l2.append(u)\n",
    "        elif type(i)==set:\n",
    "            for y in i:\n",
    "                if type(y)==int:\n",
    "                    l2.append(y)\n",
    "\n",
    "\n",
    "        if type(i)==dict:\n",
    "            for j,v in i.items():\n",
    "                if type(j)==int:\n",
    "                    l2.append(j)\n",
    "                if type(v)==int:\n",
    "                    l2.append(v)\n",
    "                if type(v)==list:\n",
    "                    for o in v:\n",
    "                        l2.append(o)\n",
    "                if type(v)==tuple:\n",
    "                    for p in v:\n",
    "                        l2.append(p)\n",
    "      \n",
    "         \n",
    "    return l2"
   ]
  },
  {
   "cell_type": "code",
   "execution_count": 3,
   "id": "0a1dc454-b947-4cc5-bcf6-08b6d9433ef1",
   "metadata": {},
   "outputs": [
    {
     "data": {
      "text/plain": [
       "[1,\n",
       " 2,\n",
       " 3,\n",
       " 4,\n",
       " 44,\n",
       " 55,\n",
       " 66,\n",
       " 34,\n",
       " 56,\n",
       " 78,\n",
       " 89,\n",
       " 34,\n",
       " 1,\n",
       " 2,\n",
       " 3,\n",
       " 1,\n",
       " 34,\n",
       " 55,\n",
       " 67,\n",
       " 78,\n",
       " 89,\n",
       " 4,\n",
       " 45,\n",
       " 22,\n",
       " 61,\n",
       " 34,\n",
       " 56]"
      ]
     },
     "execution_count": 3,
     "metadata": {},
     "output_type": "execute_result"
    }
   ],
   "source": [
    "test1(list1)"
   ]
  },
  {
   "cell_type": "code",
   "execution_count": 4,
   "id": "076f9272-ef58-4360-9489-926d3bd647c2",
   "metadata": {},
   "outputs": [],
   "source": [
    "from functools import reduce"
   ]
  },
  {
   "cell_type": "code",
   "execution_count": 5,
   "id": "92f76d9d-6dcf-4035-a8af-e85b35f5c185",
   "metadata": {},
   "outputs": [],
   "source": [
    "pro = reduce(lambda x,y: x*y,l2)"
   ]
  },
  {
   "cell_type": "code",
   "execution_count": 6,
   "id": "a48d9930-2c80-41d0-9a01-d228aa24e6cb",
   "metadata": {},
   "outputs": [
    {
     "name": "stdout",
     "output_type": "stream",
     "text": [
      "Product 4134711838987085478833841242112000\n"
     ]
    }
   ],
   "source": [
    "print(\"Product\", pro)"
   ]
  },
  {
   "cell_type": "code",
   "execution_count": 7,
   "id": "5452b229-963a-4b0b-8579-7d556ed1a330",
   "metadata": {},
   "outputs": [],
   "source": [
    "# Question no 2"
   ]
  },
  {
   "cell_type": "code",
   "execution_count": 11,
   "id": "c517500e-5abe-4168-8e3a-cad4e828100c",
   "metadata": {},
   "outputs": [
    {
     "name": "stdout",
     "output_type": "stream",
     "text": [
      "Original message: I want to become a Data Scientist.\n",
      "Encrypted message: r$dzmg$gl$yvxlnv$z$wzgz$hxrvmgrhg.\n"
     ]
    }
   ],
   "source": [
    "def encrypt_message(message):\n",
    "    message = message.lower()\n",
    "    encrypted_message = \"\"\n",
    "    for char in message:\n",
    "        if char == \" \":\n",
    "            encrypted_message += \"$\"\n",
    "        elif char.isalpha():\n",
    "            encrypted_message += chr(122 - ord(char) + 97)\n",
    "        else:\n",
    "            encrypted_message += char\n",
    "    return encrypted_message\n",
    "\n",
    "# Test the function with a sample message\n",
    "sample_message = \"I want to become a Data Scientist.\"\n",
    "print(\"Original message:\", sample_message)\n",
    "print(\"Encrypted message:\", encrypt_message(sample_message))"
   ]
  }
 ],
 "metadata": {
  "kernelspec": {
   "display_name": "Python 3 (ipykernel)",
   "language": "python",
   "name": "python3"
  },
  "language_info": {
   "codemirror_mode": {
    "name": "ipython",
    "version": 3
   },
   "file_extension": ".py",
   "mimetype": "text/x-python",
   "name": "python",
   "nbconvert_exporter": "python",
   "pygments_lexer": "ipython3",
   "version": "3.10.8"
  }
 },
 "nbformat": 4,
 "nbformat_minor": 5
}
